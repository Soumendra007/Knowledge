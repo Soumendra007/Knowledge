{
 "cells": [
  {
   "cell_type": "code",
   "execution_count": 10,
   "id": "e8a0f74a",
   "metadata": {},
   "outputs": [],
   "source": [
    "list1=[\"Ram\",\"Mack\",\"Micky\",\"Tom\",\"NAel\"]"
   ]
  },
  {
   "cell_type": "code",
   "execution_count": 11,
   "id": "beb46fe5",
   "metadata": {},
   "outputs": [
    {
     "data": {
      "text/plain": [
       "['Ram', 'Mack', 'Micky', 'Tom', 'NAel']"
      ]
     },
     "execution_count": 11,
     "metadata": {},
     "output_type": "execute_result"
    }
   ],
   "source": [
    "list1"
   ]
  },
  {
   "cell_type": "code",
   "execution_count": 12,
   "id": "71fc76bf",
   "metadata": {},
   "outputs": [
    {
     "data": {
      "text/plain": [
       "'Mack'"
      ]
     },
     "execution_count": 12,
     "metadata": {},
     "output_type": "execute_result"
    }
   ],
   "source": [
    "list1[1]"
   ]
  },
  {
   "cell_type": "code",
   "execution_count": 16,
   "id": "fda2dda9",
   "metadata": {},
   "outputs": [
    {
     "name": "stdout",
     "output_type": "stream",
     "text": [
      "Ram\n",
      "Mack\n"
     ]
    }
   ],
   "source": [
    "for i in list1:\n",
    "    j=str(i)\n",
    "    if j.find(\"a\")==True:\n",
    "        \n",
    "        print(i)\n",
    "    "
   ]
  },
  {
   "cell_type": "code",
   "execution_count": 14,
   "id": "e21332d2",
   "metadata": {},
   "outputs": [
    {
     "name": "stdout",
     "output_type": "stream",
     "text": [
      "Ram\n",
      "Mack\n",
      "NAel\n"
     ]
    }
   ],
   "source": [
    "list1 = [\"Ram\", \"Mack\", \"Micky\", \"Tom\", \"NAel\"]\n",
    "for i in list1:\n",
    "    j = str(i)\n",
    "    if 'a' in j.casefold():\n",
    "        print(i)\n"
   ]
  },
  {
   "cell_type": "code",
   "execution_count": 15,
   "id": "73668884",
   "metadata": {},
   "outputs": [
    {
     "name": "stdout",
     "output_type": "stream",
     "text": [
      "   Name\n",
      "0   Ram\n",
      "1  Mack\n",
      "4  NAel\n"
     ]
    }
   ],
   "source": [
    "import pandas as pd\n",
    "\n",
    "# Create a DataFrame\n",
    "data = {'Name': [\"Ram\", \"Mack\", \"Micky\", \"Tom\", \"NAel\"]}\n",
    "df = pd.DataFrame(data)\n",
    "\n",
    "# Boolean indexing to filter rows\n",
    "filtered_df = df[df['Name'].str.lower().str.contains('a')]\n",
    "print(filtered_df)\n"
   ]
  },
  {
   "cell_type": "code",
   "execution_count": null,
   "id": "07127648",
   "metadata": {},
   "outputs": [],
   "source": []
  },
  {
   "cell_type": "code",
   "execution_count": 21,
   "id": "48ef91f1",
   "metadata": {},
   "outputs": [
    {
     "name": "stdout",
     "output_type": "stream",
     "text": [
      "Ram\n",
      "Mack\n",
      "NAel\n"
     ]
    }
   ],
   "source": [
    "list1 = [\"Ram\", \"Mack\", \"Micky\", \"Tom\", \"NAel\"]\n",
    "for i in list1:\n",
    "    if \"a\" in i.casefold():\n",
    "        print(i)"
   ]
  },
  {
   "cell_type": "code",
   "execution_count": null,
   "id": "0b919aa3",
   "metadata": {},
   "outputs": [],
   "source": []
  },
  {
   "cell_type": "code",
   "execution_count": null,
   "id": "a3bd973d",
   "metadata": {},
   "outputs": [],
   "source": []
  },
  {
   "cell_type": "code",
   "execution_count": 20,
   "id": "552b0af0",
   "metadata": {},
   "outputs": [],
   "source": [
    "list1 = [\"Ram\", \"Mack\", \"Micky\", \"Tom\", \"NAel\"]\n",
    "for i in list1:\n",
    "    if \"a\" in i.casefold()==True:\n",
    "        print(i)"
   ]
  },
  {
   "cell_type": "code",
   "execution_count": 22,
   "id": "4b6b1712",
   "metadata": {},
   "outputs": [
    {
     "data": {
      "text/plain": [
       "['NAel', 'Tom', 'Micky', 'Mack', 'Ram']"
      ]
     },
     "execution_count": 22,
     "metadata": {},
     "output_type": "execute_result"
    }
   ],
   "source": [
    "list1 = [\"Ram\", \"Mack\", \"Micky\", \"Tom\", \"NAel\"]\n",
    "list1.reverse()\n",
    "list1"
   ]
  },
  {
   "cell_type": "code",
   "execution_count": 23,
   "id": "0cc96d5b",
   "metadata": {},
   "outputs": [
    {
     "data": {
      "text/plain": [
       "['Ram', 'Mack', 'Micky', 'Tom', 'NAel']"
      ]
     },
     "execution_count": 23,
     "metadata": {},
     "output_type": "execute_result"
    }
   ],
   "source": [
    "list1[::-1]"
   ]
  },
  {
   "cell_type": "code",
   "execution_count": 43,
   "id": "856b1005",
   "metadata": {},
   "outputs": [
    {
     "data": {
      "text/plain": [
       "['NAel', 'Tom', 'Micky', 'Mack', 'Ram']"
      ]
     },
     "execution_count": 43,
     "metadata": {},
     "output_type": "execute_result"
    }
   ],
   "source": [
    "list1"
   ]
  },
  {
   "cell_type": "code",
   "execution_count": null,
   "id": "0be44161",
   "metadata": {},
   "outputs": [],
   "source": []
  },
  {
   "cell_type": "code",
   "execution_count": 24,
   "id": "b0da26d2",
   "metadata": {},
   "outputs": [
    {
     "name": "stdout",
     "output_type": "stream",
     "text": [
      "It's here\n"
     ]
    }
   ],
   "source": [
    "if \"Mack\" in list1:\n",
    "    print(\"It's here\")\n",
    "    \n",
    "else:\n",
    "    print(\"sad\")"
   ]
  },
  {
   "cell_type": "code",
   "execution_count": 28,
   "id": "a966f398",
   "metadata": {},
   "outputs": [
    {
     "data": {
      "text/plain": [
       "['Mack', 'Micky', 'NAel', 'Ram', 'Tom']"
      ]
     },
     "execution_count": 28,
     "metadata": {},
     "output_type": "execute_result"
    }
   ],
   "source": [
    "sorted(list1)"
   ]
  },
  {
   "cell_type": "code",
   "execution_count": 30,
   "id": "913ef1a0",
   "metadata": {},
   "outputs": [
    {
     "data": {
      "text/plain": [
       "[94, 16, 6, 64, 77, 81, 4, 7]"
      ]
     },
     "execution_count": 30,
     "metadata": {},
     "output_type": "execute_result"
    }
   ],
   "source": [
    "#Creating a list of random numbers of 8 elements\n",
    "import numpy as np\n",
    "list5=list(np.random.randint(1,100,8))\n",
    "list5"
   ]
  },
  {
   "cell_type": "code",
   "execution_count": 39,
   "id": "a2aa1e66",
   "metadata": {},
   "outputs": [
    {
     "data": {
      "text/plain": [
       "94"
      ]
     },
     "execution_count": 39,
     "metadata": {},
     "output_type": "execute_result"
    }
   ],
   "source": [
    "#Finding the maximum number\n",
    "max(list5)"
   ]
  },
  {
   "cell_type": "code",
   "execution_count": 48,
   "id": "4a61475e",
   "metadata": {},
   "outputs": [
    {
     "name": "stdout",
     "output_type": "stream",
     "text": [
      "[4, 6, 7, 16, 64, 77, 81, 94]\n",
      "[4, 6, 7, 16, 64, 77, 81, 94]\n",
      "[4, 6, 7, 16, 64, 77, 81, 94]\n"
     ]
    }
   ],
   "source": [
    "#Sorted the list\n",
    "sorted_list=sorted(list5)\n",
    "print(sorted_list)\n",
    "print(list5)\n",
    "\n",
    "#2nd method\n",
    "list5.sort()\n",
    "print(list5)"
   ]
  },
  {
   "cell_type": "code",
   "execution_count": null,
   "id": "f512f64d",
   "metadata": {},
   "outputs": [],
   "source": []
  },
  {
   "cell_type": "code",
   "execution_count": null,
   "id": "39987fec",
   "metadata": {},
   "outputs": [],
   "source": []
  },
  {
   "cell_type": "code",
   "execution_count": 53,
   "id": "db3cd763",
   "metadata": {},
   "outputs": [
    {
     "name": "stdout",
     "output_type": "stream",
     "text": [
      "The 2nd highest number in list is: 87\n"
     ]
    }
   ],
   "source": [
    "#Creating a fuction that can detect the second highest number\n",
    "def second_highest(num):\n",
    "    sorted_num=num.sort()\n",
    "    print(\"The 2nd highest number in list is:\",num[-2])\n",
    "    \n",
    "#Calling the function\n",
    "\n",
    "second_highest(raw)"
   ]
  },
  {
   "cell_type": "code",
   "execution_count": 52,
   "id": "270000ee",
   "metadata": {},
   "outputs": [
    {
     "name": "stdout",
     "output_type": "stream",
     "text": [
      "[88, 46, 87, 10, 9, 5, 76, 62]\n"
     ]
    }
   ],
   "source": [
    "raw=list(np.random.randint(1,100,8))\n",
    "print(raw)"
   ]
  },
  {
   "cell_type": "code",
   "execution_count": null,
   "id": "03900d73",
   "metadata": {},
   "outputs": [],
   "source": []
  },
  {
   "cell_type": "markdown",
   "id": "dc184333",
   "metadata": {},
   "source": [
    "# Task:"
   ]
  },
  {
   "cell_type": "markdown",
   "id": "6db641fd",
   "metadata": {},
   "source": [
    "1. Sum of List\n",
    "Write a Python program to sum all the items in a list.\n",
    "\n",
    "2. Largest Number in List\n",
    "Write a program to find the largest number in a list.\n",
    "\n",
    "3. List Rotation\n",
    "Write a function that rotates a list by k elements. For example, the list [1, 2, 3, 4, 5] rotated by 2 becomes [3, 4, 5, 1, 2].\n",
    "\n",
    "4. Remove Duplicates\n",
    "Write a Python program to remove duplicates from a list.\n",
    "\n",
    "5. Check List Sorted\n",
    "Write a function that takes a list and returns True if the list is sorted in ascending order and False otherwise.\n",
    "\n",
    "6. Merge Two Lists\n",
    "Write a Python function that merges two sorted lists into a single sorted list.\n",
    "\n",
    "7. Count Element Frequency\n",
    "Create a function that counts the frequency of each element in a list and returns a dictionary with the items as keys and\n",
    "\n",
    "Merge Sorted Lists\n",
    "Write a function that merges two sorted lists into a new sorted list. Do not use the sorted() function or .sort() method.\n",
    "\n",
    "Rotate a List\n",
    "Implement a function that rotates a list by k positions to the left. For example, rotating the list [1, 2, 3, 4, 5] by 2 positions results in [3, 4, 5, 1, 2].\n",
    "\n",
    "Remove Duplicates\n",
    "Write a program that removes all duplicate values from a list, preserving the order of the remaining items.\n",
    "\n",
    "Common Elements in Two Lists\n",
    "Write a function that returns a list containing the common elements between two lists without duplicates.\n",
    "\n",
    "Sum Consecutive Duplicates\n",
    "Create a program that sums up consecutive duplicate numbers in a list. For example, turning [1, 2, 2, 3, 3, 3, 4] into [1, 4, 9, 4].`"
   ]
  },
  {
   "cell_type": "code",
   "execution_count": 45,
   "id": "6b09cd44",
   "metadata": {},
   "outputs": [
    {
     "data": {
      "text/plain": [
       "[94, 16, 6, 64, 77, 81, 4, 7]"
      ]
     },
     "execution_count": 45,
     "metadata": {},
     "output_type": "execute_result"
    }
   ],
   "source": [
    "list5"
   ]
  },
  {
   "cell_type": "code",
   "execution_count": 46,
   "id": "c0ee9dac",
   "metadata": {},
   "outputs": [],
   "source": [
    "list5.sort()"
   ]
  },
  {
   "cell_type": "code",
   "execution_count": 47,
   "id": "3cf33969",
   "metadata": {},
   "outputs": [
    {
     "data": {
      "text/plain": [
       "[4, 6, 7, 16, 64, 77, 81, 94]"
      ]
     },
     "execution_count": 47,
     "metadata": {},
     "output_type": "execute_result"
    }
   ],
   "source": [
    "list5"
   ]
  },
  {
   "cell_type": "code",
   "execution_count": null,
   "id": "c584917b",
   "metadata": {},
   "outputs": [],
   "source": []
  },
  {
   "cell_type": "markdown",
   "id": "103843be",
   "metadata": {},
   "source": [
    "# Task 1. Sum of List Write a Python program to sum all the items in a list."
   ]
  },
  {
   "cell_type": "code",
   "execution_count": 7,
   "id": "6e17156d",
   "metadata": {},
   "outputs": [
    {
     "name": "stdout",
     "output_type": "stream",
     "text": [
      "[24, 73, 86, 73, 83, 24, 6, 16]\n",
      "385\n"
     ]
    }
   ],
   "source": [
    "import numpy as np\n",
    "list1=list(np.random.randint(1,100,8))\n",
    "print(list1)\n",
    "Total=0\n",
    "for i in list1:\n",
    "    Total=Total+i\n",
    "    i+=1\n",
    "print(Total)"
   ]
  },
  {
   "cell_type": "code",
   "execution_count": null,
   "id": "3fef09d8",
   "metadata": {},
   "outputs": [],
   "source": []
  },
  {
   "cell_type": "markdown",
   "id": "0ff8cbaa",
   "metadata": {},
   "source": [
    "# Task 2. Largest Number in List Write a program to find the largest number in a list."
   ]
  },
  {
   "cell_type": "code",
   "execution_count": 12,
   "id": "f0497c0d",
   "metadata": {},
   "outputs": [
    {
     "name": "stdout",
     "output_type": "stream",
     "text": [
      "[84, 9, 84, 96, 58, 65, 3, 10, 57, 5]\n",
      "[3, 5, 9, 10, 57, 58, 65, 84, 84, 96]\n",
      "The largest number is: 96\n"
     ]
    }
   ],
   "source": [
    "import numpy as np\n",
    "list2=list(np.random.randint(1,100,10))\n",
    "print(list2)\n",
    "Sorted_list2=sorted(list2)\n",
    "print(Sorted_list2)\n",
    "print(\"The largest number is:\",Sorted_list2[-1])"
   ]
  },
  {
   "cell_type": "code",
   "execution_count": null,
   "id": "3804be4f",
   "metadata": {},
   "outputs": [],
   "source": []
  },
  {
   "cell_type": "markdown",
   "id": "622542e6",
   "metadata": {},
   "source": [
    "# Task 3. List Rotation Write a function that rotates a list by k elements. For example, the list [1, 2, 3, 4, 5] rotated by 2 becomes [3, 4, 5, 1, 2]."
   ]
  },
  {
   "cell_type": "code",
   "execution_count": 16,
   "id": "5a923108",
   "metadata": {},
   "outputs": [],
   "source": [
    "def Rotation_list(User_list,item):\n",
    "    rotate=User_list[item:] + User_list[:item]\n",
    "    print(\"The rotated list is:\",rotate)"
   ]
  },
  {
   "cell_type": "code",
   "execution_count": 17,
   "id": "cd5dc572",
   "metadata": {},
   "outputs": [
    {
     "name": "stdout",
     "output_type": "stream",
     "text": [
      "[1, 2, 3, 4, 5]\n",
      "The rotated list is: [3, 4, 5, 1, 2]\n"
     ]
    }
   ],
   "source": [
    "#Creating a list\n",
    "list3=list(range(1,6))\n",
    "print(list3)\n",
    "#Calling the Rotation_list function\n",
    "Rotation_list(list3,2)"
   ]
  },
  {
   "cell_type": "code",
   "execution_count": null,
   "id": "b3ef987a",
   "metadata": {},
   "outputs": [],
   "source": []
  },
  {
   "cell_type": "markdown",
   "id": "d765965e",
   "metadata": {},
   "source": [
    "# Task 4: Remove Duplicates Write a Python program to remove duplicates from a list."
   ]
  },
  {
   "cell_type": "code",
   "execution_count": 18,
   "id": "e6a75d2e",
   "metadata": {},
   "outputs": [],
   "source": [
    "def remove_duplicate(user_list):\n",
    "    Conv_list_into_set=set(user_list)\n",
    "    conv_set_into_list=list(Conv_list_into_set)\n",
    "    print(\"Your duplicate element free list is:\",conv_set_into_list)"
   ]
  },
  {
   "cell_type": "code",
   "execution_count": 19,
   "id": "ef839e19",
   "metadata": {},
   "outputs": [
    {
     "name": "stdout",
     "output_type": "stream",
     "text": [
      "Your duplicate element free list is: [96, 4, 6, 75, 45, 25]\n"
     ]
    }
   ],
   "source": [
    "#Creating a list that have duplicate values\n",
    "list4=[4,45,25,45,25,6,96,75,45]\n",
    "#Calling remove_duplicate functions\n",
    "remove_duplicate(list4)"
   ]
  },
  {
   "cell_type": "code",
   "execution_count": null,
   "id": "f5ea5b6d",
   "metadata": {},
   "outputs": [],
   "source": []
  },
  {
   "cell_type": "markdown",
   "id": "9c37367c",
   "metadata": {},
   "source": [
    "# Task 5: Check List Sorted Write a function that takes a list and returns True if the list is sorted in ascending order and False otherwise"
   ]
  },
  {
   "cell_type": "code",
   "execution_count": 20,
   "id": "14d37991",
   "metadata": {},
   "outputs": [],
   "source": [
    "def is_ascending(user_list):\n",
    "    return all(user_list[i]<=user_list[i+1] for i in range(len(user_list)-1))\n"
   ]
  },
  {
   "cell_type": "code",
   "execution_count": 21,
   "id": "a33f8496",
   "metadata": {},
   "outputs": [
    {
     "name": "stdout",
     "output_type": "stream",
     "text": [
      "True\n",
      "False\n"
     ]
    }
   ],
   "source": [
    "#Creating user created list\n",
    "list5=[1,2,3,4,5]\n",
    "list6=[1,2,4,3,5]\n",
    "\n",
    "#Calling is_ascending function\n",
    "print(is_ascending(list5))\n",
    "print(is_ascending(list6))"
   ]
  },
  {
   "cell_type": "code",
   "execution_count": null,
   "id": "1ef236d8",
   "metadata": {},
   "outputs": [],
   "source": []
  },
  {
   "cell_type": "markdown",
   "id": "ccf6bfdc",
   "metadata": {},
   "source": [
    "# Task 6: Merge Two Lists Write a Python function that merges two sorted lists into a single sorted list.Don't use sorted() or .sort() function."
   ]
  },
  {
   "cell_type": "code",
   "execution_count": 26,
   "id": "54d3a9b1",
   "metadata": {},
   "outputs": [
    {
     "name": "stdout",
     "output_type": "stream",
     "text": [
      "[1, 2, 3, 4, 5, 6, 7]\n",
      "[1, 2, 3, 4, 5, 6, 7, 8, 9, 10]\n"
     ]
    }
   ],
   "source": [
    "list7=[1, 3, 5, 7]\n",
    "list8=[2, 4, 6, 8, 9, 10]\n",
    "new_sorted_list=[]\n",
    "i,j=0,0\n",
    "while i<len(list7) and j<len(list8):\n",
    "    if list7[i]<list8[j]:\n",
    "        \n",
    "        new_sorted_list.append(list7[i])\n",
    "        i+=1\n",
    "        \n",
    "    else:\n",
    "        new_sorted_list.append(list8[j])\n",
    "        j+=1\n",
    "print(new_sorted_list)\n",
    "\n",
    "#Adding remaining elements froim both list (if any)\n",
    "new_sorted_list.extend(list7[i:])\n",
    "new_sorted_list.extend(list8[j:])\n",
    "print(new_sorted_list)"
   ]
  },
  {
   "cell_type": "code",
   "execution_count": null,
   "id": "14c86e1c",
   "metadata": {},
   "outputs": [],
   "source": []
  },
  {
   "cell_type": "markdown",
   "id": "aa079fa8",
   "metadata": {},
   "source": [
    "# Task 7: Count Element Frequency Create a function that counts the frequency of each element in a list and returns a dictionary with the items as keys and frequency as values."
   ]
  },
  {
   "cell_type": "code",
   "execution_count": null,
   "id": "888ef2e7",
   "metadata": {},
   "outputs": [],
   "source": []
  },
  {
   "cell_type": "code",
   "execution_count": 32,
   "id": "1dfcf8e1",
   "metadata": {},
   "outputs": [],
   "source": [
    "def count_element(user_list):\n",
    "    frequency_dict={}\n",
    "    for i in user_list:\n",
    "        if i in frequency_dict:\n",
    "            frequency_dict[i]+=1\n",
    "            \n",
    "        else:\n",
    "            frequency_dict[i]=1\n",
    "            \n",
    "    return  frequency_dict\n",
    "            "
   ]
  },
  {
   "cell_type": "code",
   "execution_count": 34,
   "id": "79a31f4c",
   "metadata": {},
   "outputs": [
    {
     "data": {
      "text/plain": [
       "{1: 2, 2: 4, 3: 2, 4: 2, 5: 1}"
      ]
     },
     "execution_count": 34,
     "metadata": {},
     "output_type": "execute_result"
    }
   ],
   "source": [
    "#Creating a list for testing\n",
    "my_list = [1, 2, 3, 4, 2, 3, 2, 1, 4, 5, 2]\n",
    "#Calling the fnction\n",
    "count_element(my_list)"
   ]
  },
  {
   "cell_type": "code",
   "execution_count": null,
   "id": "ed83bc80",
   "metadata": {},
   "outputs": [],
   "source": []
  },
  {
   "cell_type": "markdown",
   "id": "5df9486e",
   "metadata": {},
   "source": [
    "# Task 8: Write a function that returns a list containing the common elements between two lists without duplicates."
   ]
  },
  {
   "cell_type": "code",
   "execution_count": 39,
   "id": "b930fe26",
   "metadata": {},
   "outputs": [],
   "source": [
    "def find_common_element(user1,user2):\n",
    "    set1=set(user1)\n",
    "    set2=set(user2)\n",
    "    \n",
    "    common_set=set1.intersection(set2)\n",
    "    common_list=list(common_set)\n",
    "    print(\"The common elements or element list is:\",common_list)\n"
   ]
  },
  {
   "cell_type": "code",
   "execution_count": 40,
   "id": "ce2a5f09",
   "metadata": {},
   "outputs": [
    {
     "name": "stdout",
     "output_type": "stream",
     "text": [
      "The common elements or element list is: [7]\n"
     ]
    }
   ],
   "source": [
    "#Creating two list\n",
    "list8=[1,5,6,9,7,8,5,6]\n",
    "list9=[2,3,4,7,11,10]\n",
    "\n",
    "#Calling find_common_element function\n",
    "find_common_element(list8,list9)"
   ]
  },
  {
   "cell_type": "code",
   "execution_count": null,
   "id": "838bac54",
   "metadata": {},
   "outputs": [],
   "source": []
  },
  {
   "cell_type": "markdown",
   "id": "b9c1656b",
   "metadata": {},
   "source": [
    "# Task 9: Create a program that sums up consecutive duplicate numbers in a list. For example, turning [1, 2, 2, 3, 3, 3, 4] into [1, 4, 9, 4]."
   ]
  },
  {
   "cell_type": "code",
   "execution_count": 48,
   "id": "5bd41041",
   "metadata": {},
   "outputs": [],
   "source": [
    "def duplicate_sum(user_list):\n",
    "    if len(user_list)==0:\n",
    "        \n",
    "        return []\n",
    "    result=[]\n",
    "    current_sum=user_list[0]\n",
    "    for i in range(1,len(user_list)):\n",
    "        if user_list[i]==user_list[i-1]:\n",
    "            current_sum=current_sum+user_list[i]\n",
    "            \n",
    "        else:\n",
    "            result.append(current_sum)\n",
    "            current_sum=user_list[i]\n",
    "            \n",
    "    result.append(current_sum)\n",
    "    print(result)\n",
    "            \n",
    "        "
   ]
  },
  {
   "cell_type": "code",
   "execution_count": 49,
   "id": "876eccce",
   "metadata": {},
   "outputs": [
    {
     "name": "stdout",
     "output_type": "stream",
     "text": [
      "[1, 4, 9, 4]\n"
     ]
    }
   ],
   "source": [
    "#Creating a list\n",
    "test_list=[1, 2, 2, 3, 3, 3, 4]\n",
    "#Calling the function\n",
    "duplicate_sum(test_list)\n"
   ]
  },
  {
   "cell_type": "code",
   "execution_count": null,
   "id": "70e85728",
   "metadata": {},
   "outputs": [],
   "source": []
  },
  {
   "cell_type": "markdown",
   "id": "b14b332f",
   "metadata": {},
   "source": [
    "# Task 10: Create a list with some names and find out those names which have letter \"a\" Or \"A\" in it."
   ]
  },
  {
   "cell_type": "code",
   "execution_count": 53,
   "id": "750ff57e",
   "metadata": {},
   "outputs": [
    {
     "name": "stdout",
     "output_type": "stream",
     "text": [
      "Ram\n",
      "Mack\n"
     ]
    }
   ],
   "source": [
    "list1 = [\"Ram\", \"Mack\", \"Micky\", \"Tom\", \"NAel\"]\n",
    "for i in list1:\n",
    "    j=str(i)\n",
    "    if j.find(\"a\")==True:\n",
    "        print(i)"
   ]
  },
  {
   "cell_type": "code",
   "execution_count": 54,
   "id": "c6a19965",
   "metadata": {},
   "outputs": [
    {
     "name": "stdout",
     "output_type": "stream",
     "text": [
      "Ram\n",
      "Mack\n",
      "NAel\n"
     ]
    }
   ],
   "source": [
    "list1 = [\"Ram\", \"Mack\", \"Micky\", \"Tom\", \"NAel\"]\n",
    "for i in list1:\n",
    "    j=str(i)\n",
    "    if \"a\" in j.casefold():\n",
    "        print(i)"
   ]
  },
  {
   "cell_type": "code",
   "execution_count": null,
   "id": "9db5d5d5",
   "metadata": {},
   "outputs": [],
   "source": []
  },
  {
   "cell_type": "code",
   "execution_count": null,
   "id": "6f2501b8",
   "metadata": {},
   "outputs": [],
   "source": []
  },
  {
   "cell_type": "code",
   "execution_count": 38,
   "id": "dd357637",
   "metadata": {},
   "outputs": [
    {
     "name": "stdout",
     "output_type": "stream",
     "text": [
      "None\n",
      "[1, 3, 5, 7, 2, 4, 6, 8, 9, 10]\n"
     ]
    }
   ],
   "source": [
    "list7=[1, 3, 5, 7]\n",
    "list8=[2, 4, 6, 8, 9, 10]\n",
    "new_list=list7.extend(list8)\n",
    "print(new_list)\n",
    "print(list7)"
   ]
  },
  {
   "cell_type": "code",
   "execution_count": null,
   "id": "631ccd1b",
   "metadata": {},
   "outputs": [],
   "source": []
  },
  {
   "cell_type": "code",
   "execution_count": null,
   "id": "dc22da13",
   "metadata": {},
   "outputs": [],
   "source": []
  },
  {
   "cell_type": "code",
   "execution_count": null,
   "id": "d179c260",
   "metadata": {},
   "outputs": [],
   "source": []
  },
  {
   "cell_type": "code",
   "execution_count": null,
   "id": "918abfd4",
   "metadata": {},
   "outputs": [],
   "source": []
  },
  {
   "cell_type": "code",
   "execution_count": null,
   "id": "fcab5883",
   "metadata": {},
   "outputs": [],
   "source": []
  },
  {
   "cell_type": "code",
   "execution_count": null,
   "id": "a2d2ec97",
   "metadata": {},
   "outputs": [],
   "source": []
  },
  {
   "cell_type": "code",
   "execution_count": null,
   "id": "e97e5070",
   "metadata": {},
   "outputs": [],
   "source": []
  }
 ],
 "metadata": {
  "kernelspec": {
   "display_name": "Python 3 (ipykernel)",
   "language": "python",
   "name": "python3"
  },
  "language_info": {
   "codemirror_mode": {
    "name": "ipython",
    "version": 3
   },
   "file_extension": ".py",
   "mimetype": "text/x-python",
   "name": "python",
   "nbconvert_exporter": "python",
   "pygments_lexer": "ipython3",
   "version": "3.10.9"
  }
 },
 "nbformat": 4,
 "nbformat_minor": 5
}
